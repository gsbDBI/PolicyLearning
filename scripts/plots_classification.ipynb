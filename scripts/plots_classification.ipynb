{
 "cells": [
  {
   "cell_type": "markdown",
   "metadata": {},
   "source": [
    "## Simulation Setup\n",
    "\n",
    "### DGP\n",
    "Using OpenML classification datasets. \n",
    "Agent: linear Thompson sampling. \n",
    "\n",
    "\n",
    "### Compared weighting:\n",
    "\n",
    "- $h_t=1$;\n",
    "- $h_t=t^{-\\alpha/2}$;\n",
    "- $h_t=t^{-\\alpha}$;\n",
    "- $h_t=t^{-2\\alpha}$;\n",
    "\n",
    "\n",
    "Evaluation metric: regret"
   ]
  },
  {
   "cell_type": "code",
   "execution_count": 2,
   "metadata": {},
   "outputs": [],
   "source": [
    "import matplotlib.pyplot as plt\n",
    "import numpy as np\n",
    "import pandas as pd\n",
    "import seaborn as sns\n",
    "sns.set()"
   ]
  },
  {
   "cell_type": "code",
   "execution_count": 3,
   "metadata": {},
   "outputs": [],
   "source": [
    "from glob import glob\n",
    "def read_files(file_name):\n",
    "    files = glob(file_name)\n",
    "    results = []\n",
    "    for file in files:\n",
    "        r = np.load(file)\n",
    "        results.extend(r)\n",
    "    return np.array(results)"
   ]
  },
  {
   "cell_type": "code",
   "execution_count": 4,
   "metadata": {},
   "outputs": [],
   "source": [
    "results = read_files('results/dataset_*')"
   ]
  },
  {
   "cell_type": "code",
   "execution_count": 5,
   "metadata": {},
   "outputs": [],
   "source": [
    "df = pd.DataFrame(data=results, columns=['dataset', 'T', 'T_test', 'K', 'p',\n",
    "                                        'signal', 'noise_std', 'floor_decay',\n",
    "                                        'policy_class', 'tree_depth', 'mask',\n",
    "                                        'uniform', 'alpha_0.5', 'alpha', 'alpha_1.5', 'alpha_2', 'lvdl_worst'])\n"
   ]
  },
  {
   "cell_type": "code",
   "execution_count": 6,
   "metadata": {},
   "outputs": [],
   "source": [
    "dataset = []\n",
    "p = []\n",
    "K = []\n",
    "N = []\n",
    "uniform_regret = []\n",
    "lvdl_worst_regret = []\n",
    "alpha_regret = []\n",
    "alpha_half_regret = []\n",
    "alpha_three_half_regret = []\n",
    "alpha_twice_regret = []\n",
    "uniform_regret_std = []\n",
    "lvdl_worst_regret_std = []\n",
    "alpha_regret_std = []\n",
    "alpha_half_regret_std = []\n",
    "for d, df_d in df.groupby('dataset'):\n",
    "    if int(df_d['T'].unique()) < 1000:\n",
    "        continue\n",
    "    dataset.append(d)\n",
    "    p.append(int(np.array(df_d['p'])[0]))\n",
    "    K.append(int(np.array(df_d['K'])[0]))\n",
    "    N.append(int(np.array(df_d['T'])[0]) + int(np.array(df_d['T_test'])[0]))\n",
    "    uniform_regret.append(np.mean([float(i) for i in df_d['uniform']]))\n",
    "    alpha_regret.append(np.mean([float(i) for i in df_d['alpha']]))\n",
    "    alpha_half_regret.append(np.mean([float(i) for i in df_d['alpha_0.5']]))\n",
    "    alpha_three_half_regret.append(np.mean([float(i) for i in df_d['alpha_1.5']]))\n",
    "    alpha_twice_regret.append(np.mean([float(i) for i in df_d['alpha_2']]))\n",
    "    lvdl_worst_regret.append(np.mean([float(i) for i in df_d['lvdl_worst']]))\n",
    "\n",
    "uniform_regret = np.array(uniform_regret)\n",
    "alpha_regret = np.array(alpha_regret)\n",
    "alpha_half_regret = np.array(alpha_half_regret)\n",
    "alpha_three_half_regret = np.array(alpha_three_half_regret)\n",
    "alpha_twice_regret = np.array(alpha_twice_regret)\n",
    "lvdl_worst_regret = np.array(lvdl_worst_regret)\n",
    "uniform_regret_std = np.array(uniform_regret_std)\n",
    "alpha_regret_std = np.array(alpha_regret_std)\n",
    "alpha_half_regret_std = np.array(alpha_half_regret_std)\n",
    "lvdl_worst_regret_std = np.array(lvdl_worst_regret_std)\n",
    "p = np.array(p)\n",
    "K = np.array(K)\n",
    "N = np.array(N)"
   ]
  },
  {
   "cell_type": "code",
   "execution_count": 7,
   "metadata": {},
   "outputs": [
    {
     "data": {
      "text/plain": [
       "array(['GAMETES_Epistasis_2-Way_20atts_0_4H_EDM-1_1',\n",
       "       'BNG_sick_nominal_1000000', 'waveform-5000', 'BNG_credit-a_',\n",
       "       'Long', 'banknote-authentication', 'page-blocks', 'BNG_mushroom_',\n",
       "       'BNG_trains_', 'cmc', 'artificial-characters',\n",
       "       'Click_prediction_small', 'BNG_lymph_10000_10_', 'BNG_kr-vs-kp_',\n",
       "       'skin-segmentation', 'BNG_lymph_nominal_1000000_', 'allrep',\n",
       "       'mfeat-morphological', 'satellite_image', 'BNG_cmc_nominal_55296_',\n",
       "       'BNG_lymph_', 'jungle_chess_2pcs_endgame_elephant_elephant',\n",
       "       'BNG_kr-vs-kp_5000_10_', 'BNG_vehicle_nominal_1000000_', 'wilt',\n",
       "       'BNG_credit-a_nominal_1000000_', 'BNG_labor_nominal_1000000_',\n",
       "       'eye_movements', 'Satellite', 'ringnorm', 'mammography',\n",
       "       'delta_ailerons', 'SEA_50_', 'BNG_credit-g_nominal_1000000_',\n",
       "       'PhishingWebsites', 'BNG_breast-cancer_nominal_1000000_', 'splice',\n",
       "       'pendigits', 'volcanoes-a1', 'texture',\n",
       "       'BNG_hepatitis_nominal_1000000_', 'SEA_50000_', 'BNG_ionosphere_',\n",
       "       'BNG_breast-w_', 'BNG_colic_ORIG_nominal_1000000_',\n",
       "       'cardiotocography', 'volcanoes-d4', 'BNG_labor_', 'volcanoes-b3',\n",
       "       'dis', 'BNG_heart-statlog_', 'spambase', 'BNG_credit-g_',\n",
       "       'jungle_chess_2pcs_endgame_panther_lion', 'ozone_level',\n",
       "       'optdigits', 'BNG_cylinder-bands_nominal_1000000_', 'electricity',\n",
       "       'BNG_tic-tac-toe_', 'kr-vs-kp', 'bank-marketing', 'satimage',\n",
       "       'BNG_heart-statlog_nominal_1000000_', 'MagicTelescope',\n",
       "       'COMET_MC_SAMPLE', 'BNG_colic_nominal_1000000_', 'volcanoes-a2',\n",
       "       'yeast',\n",
       "       'GAMETES_Heterogeneity_20atts_1600_Het_0_4_0_2_75_EDM-2_001',\n",
       "       'BNG_cmc_', 'segment', 'BNG_vote_',\n",
       "       'BNG_waveform-5000_nominal_1000000_', 'BNG_lymph_1000_10_',\n",
       "       'BNG_hypothyroid_nominal_1000000_', 'mfeat-zernike', 'coil2000',\n",
       "       'houses', 'eeg-eye-state', 'BNG_kr-vs-kp_5000_1_', 'car', 'pol'],\n",
       "      dtype=object)"
      ]
     },
     "execution_count": 7,
     "metadata": {},
     "output_type": "execute_result"
    }
   ],
   "source": [
    "df['dataset'].unique()"
   ]
  },
  {
   "cell_type": "markdown",
   "metadata": {},
   "source": [
    "## Table 1: dataset characteristics"
   ]
  },
  {
   "cell_type": "code",
   "execution_count": 20,
   "metadata": {},
   "outputs": [
    {
     "name": "stdout",
     "output_type": "stream",
     "text": [
      "Feature size [<10, >=10 & <40, >=40]: \n",
      "[24, 46, 12]\n",
      "Number of classes [2, >=3 & <6, >=6]\n",
      "[50, 21, 11]\n",
      "Sample size [<5k, >=5k & <20k, >=20k]\n",
      "[22, 20, 40]\n"
     ]
    }
   ],
   "source": [
    "print(\"Feature size [<10, >=10 & <40, >=40]: \")\n",
    "print([np.sum(p<10), np.sum((p>=10) & (p<40)), np.sum(p>=40)])\n",
    "print(\"Number of classes [2, >=3 & <6, >=6]\")\n",
    "print([np.sum(K==2), np.sum((K>=3) & (K<6)), np.sum(K>=6)])\n",
    "print(\"Sample size [<5k, >=5k & <20k, >=20k]\")\n",
    "print([np.sum(N<5000), np.sum((N>=5000) & (N<20000)), np.sum(N>=20000)])"
   ]
  },
  {
   "cell_type": "markdown",
   "metadata": {},
   "source": [
    "## Table 2: summary statistics"
   ]
  },
  {
   "cell_type": "code",
   "execution_count": 30,
   "metadata": {},
   "outputs": [
    {
     "name": "stdout",
     "output_type": "stream",
     "text": [
      "h_t=1: mean 0.31308955476343264 & median 0.22513753836317135\n",
      "h_t=t^{-alpha/2}: mean 0.3065276869834341 & median 0.2193016251657668\n",
      "h_t=t^{-alpha}: mean 0.3006259706833088 & median 0.21545819900303115\n",
      "h_t=t^{-2alpha}: mean 0.3533332334317858 & median 0.28120455089227203\n",
      "\n",
      "#datasets on which the weighting peaks performance\n",
      "[('h_t=1', 5), ('h_t=t^{-alpha/2}', 10), ('h_t=t^{-alpha}', 64), ('h_t=t^{-2alpha}', 3)]\n"
     ]
    }
   ],
   "source": [
    "weighting = ['h_t=1', 'h_t=t^{-alpha/2}', 'h_t=t^{-alpha}',   'h_t=t^{-2alpha}']\n",
    "for i, w in zip([uniform_regret, alpha_half_regret, alpha_regret,  alpha_twice_regret],\n",
    "             weighting):\n",
    "    print( f\"{w}: mean {np.mean(i)} & median {np.median(i)}\")\n",
    "a = [uniform_regret, alpha_half_regret, alpha_regret,  alpha_twice_regret]\n",
    "_, count = np.unique(np.argmin(a, axis=0), return_counts=True)\n",
    "print(\"\")\n",
    "print(\"#datasets on which the weighting peaks performance\")\n",
    "print(list(zip(weighting, count)))"
   ]
  },
  {
   "cell_type": "markdown",
   "metadata": {},
   "source": [
    "## Figure 3 "
   ]
  },
  {
   "cell_type": "code",
   "execution_count": 11,
   "metadata": {},
   "outputs": [],
   "source": [
    "def plot(regret, name):\n",
    "    n = len(regret)\n",
    "    fig, ax = plt.subplots(nrows=1, ncols=3, figsize=(3*3, 3.5*1))\n",
    "    ax.flatten()[0].set_ylabel(name[0], fontsize=15)\n",
    "    for i in range(n-1):\n",
    "        ax.flatten()[i].set_xlabel(name[i+1], fontsize=15)\n",
    "        maxi = np.amax([*regret[0], * regret[i+1]])\n",
    "        u_r = np.array(regret[0]) / maxi\n",
    "        l_r = np.array( regret[i+1]) / maxi\n",
    "        ax.flatten()[i].plot(u_r[u_r < l_r], l_r[u_r < l_r], '.', markersize=10, alpha=0.55)\n",
    "        ax.flatten()[i].plot(u_r[u_r >= l_r], l_r[u_r >= l_r], '.', markersize=10, alpha=0.55)\n",
    "        ax.flatten()[i].plot([0,1.0],[0,1.0], '--k')\n",
    "        ax.flatten()[i].set_xticks([0.,0.5, 1.0])\n",
    "        ax.flatten()[i].set_yticks([0.,0.5, 1.0])\n",
    "        if i > 0:\n",
    "            ax.flatten()[i].set_yticklabels([])\n",
    "    plt.tight_layout()"
   ]
  },
  {
   "cell_type": "code",
   "execution_count": 13,
   "metadata": {},
   "outputs": [
    {
     "data": {
      "image/png": "[encoded data removed]",
      "text/plain": [
       "<Figure size 648x252 with 3 Axes>"
      ]
     },
     "metadata": {},
     "output_type": "display_data"
    }
   ],
   "source": [
    "plot([uniform_regret, alpha_half_regret, alpha_regret,  alpha_twice_regret],\n",
    "    [r'$h_t=1$', r'$h_t=t^{-\\alpha/2}$', r'$h_t=t^{-\\alpha}$',   r'$h_t=t^{-2\\alpha}$'])\n",
    "plt.savefig('classification.pdf',bbox_inches='tight')"
   ]
  },
  {
   "cell_type": "code",
   "execution_count": null,
   "metadata": {},
   "outputs": [],
   "source": []
  }
 ],
 "metadata": {
  "kernelspec": {
   "display_name": "Python 3 (ipykernel)",
   "language": "python",
   "name": "python3"
  },
  "language_info": {
   "codemirror_mode": {
    "name": "ipython",
    "version": 3
   },
   "file_extension": ".py",
   "mimetype": "text/x-python",
   "name": "python",
   "nbconvert_exporter": "python",
   "pygments_lexer": "ipython3",
   "version": "3.7.7"
  }
 },
 "nbformat": 4,
 "nbformat_minor": 4
}
